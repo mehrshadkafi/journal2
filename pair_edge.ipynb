{
 "cells": [
  {
   "cell_type": "code",
   "execution_count": 1,
   "metadata": {},
   "outputs": [],
   "source": [
    "import numpy as np\n",
    "import cv2\n",
    "import os\n",
    "import matplotlib.pyplot as plt"
   ]
  },
  {
   "cell_type": "code",
   "execution_count": 2,
   "metadata": {},
   "outputs": [],
   "source": [
    "def correlations(intensities):\n",
    "    x1h = intensities\n",
    "    x2h = np.zeros([height, width])\n",
    "    for i in range(0, height):\n",
    "        for j in range(0, width-1):\n",
    "            x2h[i][j] = x1h[i][j+1]\n",
    "        x2h[i][width-1] = x1h[i][width-1]\n",
    "\n",
    "    total_N = np.size(x1h)\n",
    "    mean_x1h = x1h.sum()/total_N\n",
    "    mean_x2h = x2h.sum()/total_N\n",
    "\n",
    "    aa1 = (x1h - mean_x1h)**2\n",
    "    bb1 = aa1.sum()\n",
    "    std_dev1 = np.sqrt(bb1/total_N)\n",
    "\n",
    "    aa2 = (x2h - mean_x2h)**2\n",
    "    bb2 = aa2.sum()\n",
    "    std_dev2 = np.sqrt(bb2/total_N)\n",
    "\n",
    "    cc = (x1h - mean_x1h)*(x2h - mean_x2h)\n",
    "    hcov = cc.sum()/total_N\n",
    "\n",
    "    hcorr = hcov/(std_dev1 * std_dev2)\n",
    "    print('hcorr', hcorr)\n",
    "\n",
    "    # Vertical correlation\n",
    "    x1v = intensities\n",
    "    x2v = np.zeros([height, width])\n",
    "    for i in range(0, height-1):\n",
    "        for j in range(0, width):\n",
    "            x2v[i][j] = x1v[i+1][j]\n",
    "            x2v[height-1][j] = x1v[height-1][j]\n",
    "\n",
    "    total_N = np.size(x1v)\n",
    "    mean_x1v = x1v.sum()/total_N\n",
    "    mean_x2v = x2v.sum()/total_N\n",
    "\n",
    "    aa1 = (x1v - mean_x1v)**2\n",
    "    bb1 = aa1.sum()\n",
    "    std_dev1 = np.sqrt(bb1/total_N)\n",
    "\n",
    "    aa2 = (x2v - mean_x2v)**2\n",
    "    bb2 = aa2.sum()\n",
    "    std_dev2 = np.sqrt(bb2/total_N)\n",
    "\n",
    "    cc = (x1v - mean_x1v)*(x2v - mean_x2v)\n",
    "    vcov = cc.sum()/total_N\n",
    "\n",
    "    vcorr = vcov/(std_dev1 * std_dev2)\n",
    "    print('vcorr',vcorr)\n",
    "\n",
    "    # Diagonal correlation\n",
    "    x1d = intensities\n",
    "    x2d = np.zeros([height, width])\n",
    "    for i in range(0, height-1):\n",
    "        for j in range(0, width-1):\n",
    "            x2d[i][j] = x1d[i+1][j+1]\n",
    "            x2d[height-1][j] = x1d[height-1][j]\n",
    "        x2d[i][width-1] = x1d[i][width-1]\n",
    "    x2d[height-1][width-1] = x1d[height-1][width-1]\n",
    "\n",
    "    total_N = np.size(x1d)\n",
    "    mean_x1d = x1d.sum()/total_N\n",
    "    mean_x2d = x2d.sum()/total_N\n",
    "\n",
    "    aa1 = (x1d - mean_x1d)**2\n",
    "    bb1 = aa1.sum()\n",
    "    std_dev1 = np.sqrt(bb1/total_N)\n",
    "\n",
    "    aa2 = (x2d - mean_x2d)**2\n",
    "    bb2 = aa2.sum()\n",
    "    std_dev2 = np.sqrt(bb2/total_N)\n",
    "\n",
    "    cc = (x1d - mean_x1d)*(x2d - mean_x2d)\n",
    "    dcov = cc.sum()/total_N\n",
    "\n",
    "    dcorr = dcov/(std_dev1 * std_dev2)\n",
    "    print('dcorr',dcorr)\n",
    "    \n",
    "    return hcorr, vcorr, dcorr"
   ]
  },
  {
   "cell_type": "code",
   "execution_count": 3,
   "metadata": {},
   "outputs": [],
   "source": [
    "def eve_distortion(eve_intensities): #from the reconstructed image in uint8 type\n",
    "    feve_intensities = eve_intensities.astype(np.float)\n",
    "    fintensities = intensities.astype(np.float)\n",
    "    dif = (fintensities -  feve_intensities)\n",
    "    eve_dist_mat = dif**2\n",
    "    occurance_sum = height*width #?!\n",
    "    eve_dist = eve_dist_mat.sum()/occurance_sum\n",
    "    return eve_dist"
   ]
  },
  {
   "cell_type": "markdown",
   "metadata": {},
   "source": [
    "# Intensities"
   ]
  },
  {
   "cell_type": "code",
   "execution_count": 4,
   "metadata": {},
   "outputs": [],
   "source": [
    "pairs1 = np.arange(0,128,1)\n",
    "\n",
    "th = 4 #threshold\n",
    "pairing_rounds = np.floor(th/2)\n",
    "pairs2 = []\n",
    "for j in range(int(pairing_rounds)):\n",
    "    n = int((255-128-(2*j+1))/th)\n",
    "    for i in range(n+1):\n",
    "        pairs2 = np.append(pairs2,128+2*j+i*th)\n",
    "        pairs2 = np.append(pairs2,128+2*j+1+i*th)\n",
    "    if (128+2*j+(n+1)*th) <= 255:\n",
    "        pairs2 = np.append(pairs2, 128+2*j+(n+1)*th)\n",
    "\n",
    "if np.mod(th,2):\n",
    "    n = int((255-128-(th-1))/th)# 128+4+n*th =<255\n",
    "    for i in range(n+1):\n",
    "        pairs2 = np.append(pairs2,128+th-1+i*th)     \n",
    "\n",
    "num_paired = np.size(pairs2)\n",
    "num_remained = 128 - num_paired"
   ]
  },
  {
   "cell_type": "code",
   "execution_count": 8,
   "metadata": {},
   "outputs": [
    {
     "data": {
      "text/plain": [
       "-1"
      ]
     },
     "execution_count": 8,
     "metadata": {},
     "output_type": "execute_result"
    }
   ],
   "source": [
    "#eve_msb0\n",
    "img_file = 'lena_gray_512.tif'\n",
    "intensities = cv2.imread(img_file, cv2.IMREAD_GRAYSCALE)\n",
    "imf = np.float32(intensities)\n",
    "height = np.shape(imf)[0]\n",
    "width = np.shape(imf)[1]\n",
    "\n",
    "eve_msb0 = np.zeros([np.shape(imf)[0],np.shape(imf)[1]])\n",
    "for i in range(np.shape(imf)[0]):\n",
    "    for j in range(np.shape(imf)[1]):\n",
    "\n",
    "        if imf[i,j] in pairs1:\n",
    "            pos = np.argwhere(pairs1 == imf[i,j])\n",
    "\n",
    "            if np.mod(pos,2):\n",
    "                eve_msb0_element = pairs2[pos]\n",
    "            else:\n",
    "                eve_msb0_element = imf[i,j]\n",
    "\n",
    "            eve_msb0[i,j] = eve_msb0_element\n",
    "\n",
    "\n",
    "        if imf[i,j] in pairs2:\n",
    "            pos = np.argwhere(pairs2 == imf[i,j])\n",
    "\n",
    "            if np.mod(pos,2):\n",
    "                eve_msb0_element = imf[i,j]\n",
    "            else:\n",
    "                eve_msb0_element = pairs1[pos]\n",
    "\n",
    "            eve_msb0[i,j] = eve_msb0_element\n",
    "\n",
    "\n",
    "# imf_uint8 =imf.astype(np.uint8)\n",
    "# cv2.imshow('original', imf_uint8)\n",
    "# filename = 'original.webp'\n",
    "# cv2.imwrite(filename, imf_uint8)\n",
    "# cv2.waitKey(1000)\n",
    "\n",
    "eve_msb0_uint8 =eve_msb0.astype(np.uint8)\n",
    "cv2.imshow('eve_msb0', eve_msb0_uint8)\n",
    "filename = 'eve_msb0th'+str(th)+'.png'\n",
    "# cv2.imwrite(os.path.join(os.path.expanduser('~'),'Desktop',filename), eve_msb0_uint8)\n",
    "cv2.imwrite(filename, eve_msb0_uint8)\n",
    "cv2.waitKey(1000)"
   ]
  },
  {
   "cell_type": "code",
   "execution_count": 10,
   "metadata": {},
   "outputs": [],
   "source": [
    "cv2.destroyAllWindows()"
   ]
  },
  {
   "cell_type": "code",
   "execution_count": 12,
   "metadata": {},
   "outputs": [
    {
     "data": {
      "text/plain": [
       "array([  0,   1,   2,   3,   4,   5,   6,   7,   8,   9,  10,  11,  12,\n",
       "        13,  14,  15,  16,  17,  18,  19,  20,  21,  22,  23,  24,  25,\n",
       "        26,  27,  28,  29,  30,  31,  32,  33,  34,  35,  36,  37,  38,\n",
       "        39,  40,  41,  42,  43,  44,  45,  46,  47,  48,  49,  50,  51,\n",
       "        52,  53,  54,  55,  56,  57,  58,  59,  60,  61,  62,  63,  64,\n",
       "        65,  66,  67,  68,  69,  70,  71,  72,  73,  74,  75,  76,  77,\n",
       "        78,  79,  80,  81,  82,  83,  84,  85,  86,  87,  88,  89,  90,\n",
       "        91,  92,  93,  94,  95,  96,  97,  98,  99, 100, 101, 102, 103,\n",
       "       104, 105, 106, 107, 108, 109, 110, 111, 112, 113, 114, 115, 116,\n",
       "       117, 118, 119, 120, 121, 122, 123, 124, 125, 126, 127])"
      ]
     },
     "execution_count": 12,
     "metadata": {},
     "output_type": "execute_result"
    }
   ],
   "source": [
    "pairs1"
   ]
  },
  {
   "cell_type": "code",
   "execution_count": 13,
   "metadata": {},
   "outputs": [
    {
     "data": {
      "text/plain": [
       "array([128., 129., 132., 133., 136., 137., 140., 141., 144., 145., 148.,\n",
       "       149., 152., 153., 156., 157., 160., 161., 164., 165., 168., 169.,\n",
       "       172., 173., 176., 177., 180., 181., 184., 185., 188., 189., 192.,\n",
       "       193., 196., 197., 200., 201., 204., 205., 208., 209., 212., 213.,\n",
       "       216., 217., 220., 221., 224., 225., 228., 229., 232., 233., 236.,\n",
       "       237., 240., 241., 244., 245., 248., 249., 252., 253., 130., 131.,\n",
       "       134., 135., 138., 139., 142., 143., 146., 147., 150., 151., 154.,\n",
       "       155., 158., 159., 162., 163., 166., 167., 170., 171., 174., 175.,\n",
       "       178., 179., 182., 183., 186., 187., 190., 191., 194., 195., 198.,\n",
       "       199., 202., 203., 206., 207., 210., 211., 214., 215., 218., 219.,\n",
       "       222., 223., 226., 227., 230., 231., 234., 235., 238., 239., 242.,\n",
       "       243., 246., 247., 250., 251., 254., 255.])"
      ]
     },
     "execution_count": 13,
     "metadata": {},
     "output_type": "execute_result"
    }
   ],
   "source": [
    "pairs2"
   ]
  },
  {
   "cell_type": "markdown",
   "metadata": {},
   "source": [
    "# Intensities_different thresholds"
   ]
  },
  {
   "cell_type": "code",
   "execution_count": 8,
   "metadata": {},
   "outputs": [
    {
     "name": "stdout",
     "output_type": "stream",
     "text": [
      "hcorr 0.17822587480942698\n",
      "vcorr 0.1961185157196484\n",
      "dcorr 0.16964466506243298\n",
      "hcorr 0.17822587480942698\n",
      "vcorr 0.1961185157196484\n",
      "dcorr 0.16964466506243298\n",
      "hcorr 0.17822587480942698\n",
      "vcorr 0.1961185157196484\n",
      "dcorr 0.16964466506243298\n",
      "hcorr 0.18069415230024213\n",
      "vcorr 0.19763072842820412\n",
      "dcorr 0.16968948537379602\n",
      "hcorr 0.18069415230024213\n",
      "vcorr 0.19763072842820412\n",
      "dcorr 0.16968948537379602\n",
      "hcorr 0.18069415230024213\n",
      "vcorr 0.19763072842820412\n",
      "dcorr 0.16968948537379602\n",
      "hcorr 0.17822587480942698\n",
      "vcorr 0.1961185157196484\n",
      "dcorr 0.16964466506243298\n",
      "hcorr 0.17822587480942698\n",
      "vcorr 0.1961185157196484\n",
      "dcorr 0.16964466506243298\n",
      "hcorr 0.17822587480942698\n",
      "vcorr 0.1961185157196484\n",
      "dcorr 0.16964466506243298\n"
     ]
    },
    {
     "ename": "KeyboardInterrupt",
     "evalue": "",
     "output_type": "error",
     "traceback": [
      "\u001b[1;31m---------------------------------------------------------------------------\u001b[0m",
      "\u001b[1;31mAttributeError\u001b[0m                            Traceback (most recent call last)",
      "\u001b[1;32m~\\AppData\\Local\\Continuum\\anaconda3\\lib\\site-packages\\numpy\\core\\fromnumeric.py\u001b[0m in \u001b[0;36m_wrapfunc\u001b[1;34m(obj, method, *args, **kwds)\u001b[0m\n\u001b[0;32m     55\u001b[0m     \u001b[1;32mtry\u001b[0m\u001b[1;33m:\u001b[0m\u001b[1;33m\u001b[0m\u001b[1;33m\u001b[0m\u001b[0m\n\u001b[1;32m---> 56\u001b[1;33m         \u001b[1;32mreturn\u001b[0m \u001b[0mgetattr\u001b[0m\u001b[1;33m(\u001b[0m\u001b[0mobj\u001b[0m\u001b[1;33m,\u001b[0m \u001b[0mmethod\u001b[0m\u001b[1;33m)\u001b[0m\u001b[1;33m(\u001b[0m\u001b[1;33m*\u001b[0m\u001b[0margs\u001b[0m\u001b[1;33m,\u001b[0m \u001b[1;33m**\u001b[0m\u001b[0mkwds\u001b[0m\u001b[1;33m)\u001b[0m\u001b[1;33m\u001b[0m\u001b[1;33m\u001b[0m\u001b[0m\n\u001b[0m\u001b[0;32m     57\u001b[0m \u001b[1;33m\u001b[0m\u001b[0m\n",
      "\u001b[1;31mAttributeError\u001b[0m: 'tuple' object has no attribute 'transpose'",
      "\nDuring handling of the above exception, another exception occurred:\n",
      "\u001b[1;31mKeyboardInterrupt\u001b[0m                         Traceback (most recent call last)",
      "\u001b[1;32m<ipython-input-8-24a7a5132bf5>\u001b[0m in \u001b[0;36m<module>\u001b[1;34m\u001b[0m\n\u001b[0;32m     83\u001b[0m \u001b[1;33m\u001b[0m\u001b[0m\n\u001b[0;32m     84\u001b[0m             \u001b[1;32mif\u001b[0m \u001b[0mimf\u001b[0m\u001b[1;33m[\u001b[0m\u001b[0mi\u001b[0m\u001b[1;33m,\u001b[0m\u001b[0mj\u001b[0m\u001b[1;33m]\u001b[0m \u001b[1;32min\u001b[0m \u001b[0mpairs1\u001b[0m\u001b[1;33m:\u001b[0m\u001b[1;33m\u001b[0m\u001b[1;33m\u001b[0m\u001b[0m\n\u001b[1;32m---> 85\u001b[1;33m                 \u001b[0mpos\u001b[0m \u001b[1;33m=\u001b[0m \u001b[0mnp\u001b[0m\u001b[1;33m.\u001b[0m\u001b[0margwhere\u001b[0m\u001b[1;33m(\u001b[0m\u001b[0mpairs1\u001b[0m \u001b[1;33m==\u001b[0m \u001b[0mimf\u001b[0m\u001b[1;33m[\u001b[0m\u001b[0mi\u001b[0m\u001b[1;33m,\u001b[0m\u001b[0mj\u001b[0m\u001b[1;33m]\u001b[0m\u001b[1;33m)\u001b[0m\u001b[1;33m\u001b[0m\u001b[1;33m\u001b[0m\u001b[0m\n\u001b[0m\u001b[0;32m     86\u001b[0m \u001b[1;33m\u001b[0m\u001b[0m\n\u001b[0;32m     87\u001b[0m                 \u001b[1;32mif\u001b[0m \u001b[0mnp\u001b[0m\u001b[1;33m.\u001b[0m\u001b[0mmod\u001b[0m\u001b[1;33m(\u001b[0m\u001b[0mpos\u001b[0m\u001b[1;33m,\u001b[0m\u001b[1;36m2\u001b[0m\u001b[1;33m)\u001b[0m\u001b[1;33m:\u001b[0m\u001b[1;33m\u001b[0m\u001b[1;33m\u001b[0m\u001b[0m\n",
      "\u001b[1;32m~\\AppData\\Local\\Continuum\\anaconda3\\lib\\site-packages\\numpy\\core\\numeric.py\u001b[0m in \u001b[0;36margwhere\u001b[1;34m(a)\u001b[0m\n\u001b[0;32m    879\u001b[0m \u001b[1;33m\u001b[0m\u001b[0m\n\u001b[0;32m    880\u001b[0m     \"\"\"\n\u001b[1;32m--> 881\u001b[1;33m     \u001b[1;32mreturn\u001b[0m \u001b[0mtranspose\u001b[0m\u001b[1;33m(\u001b[0m\u001b[0mnonzero\u001b[0m\u001b[1;33m(\u001b[0m\u001b[0ma\u001b[0m\u001b[1;33m)\u001b[0m\u001b[1;33m)\u001b[0m\u001b[1;33m\u001b[0m\u001b[1;33m\u001b[0m\u001b[0m\n\u001b[0m\u001b[0;32m    882\u001b[0m \u001b[1;33m\u001b[0m\u001b[0m\n\u001b[0;32m    883\u001b[0m \u001b[1;33m\u001b[0m\u001b[0m\n",
      "\u001b[1;32m~\\AppData\\Local\\Continuum\\anaconda3\\lib\\site-packages\\numpy\\core\\fromnumeric.py\u001b[0m in \u001b[0;36mtranspose\u001b[1;34m(a, axes)\u001b[0m\n\u001b[0;32m    637\u001b[0m \u001b[1;33m\u001b[0m\u001b[0m\n\u001b[0;32m    638\u001b[0m     \"\"\"\n\u001b[1;32m--> 639\u001b[1;33m     \u001b[1;32mreturn\u001b[0m \u001b[0m_wrapfunc\u001b[0m\u001b[1;33m(\u001b[0m\u001b[0ma\u001b[0m\u001b[1;33m,\u001b[0m \u001b[1;34m'transpose'\u001b[0m\u001b[1;33m,\u001b[0m \u001b[0maxes\u001b[0m\u001b[1;33m)\u001b[0m\u001b[1;33m\u001b[0m\u001b[1;33m\u001b[0m\u001b[0m\n\u001b[0m\u001b[0;32m    640\u001b[0m \u001b[1;33m\u001b[0m\u001b[0m\n\u001b[0;32m    641\u001b[0m \u001b[1;33m\u001b[0m\u001b[0m\n",
      "\u001b[1;32m~\\AppData\\Local\\Continuum\\anaconda3\\lib\\site-packages\\numpy\\core\\fromnumeric.py\u001b[0m in \u001b[0;36m_wrapfunc\u001b[1;34m(obj, method, *args, **kwds)\u001b[0m\n\u001b[0;32m     64\u001b[0m     \u001b[1;31m# a downstream library like 'pandas'.\u001b[0m\u001b[1;33m\u001b[0m\u001b[1;33m\u001b[0m\u001b[1;33m\u001b[0m\u001b[0m\n\u001b[0;32m     65\u001b[0m     \u001b[1;32mexcept\u001b[0m \u001b[1;33m(\u001b[0m\u001b[0mAttributeError\u001b[0m\u001b[1;33m,\u001b[0m \u001b[0mTypeError\u001b[0m\u001b[1;33m)\u001b[0m\u001b[1;33m:\u001b[0m\u001b[1;33m\u001b[0m\u001b[1;33m\u001b[0m\u001b[0m\n\u001b[1;32m---> 66\u001b[1;33m         \u001b[1;32mreturn\u001b[0m \u001b[0m_wrapit\u001b[0m\u001b[1;33m(\u001b[0m\u001b[0mobj\u001b[0m\u001b[1;33m,\u001b[0m \u001b[0mmethod\u001b[0m\u001b[1;33m,\u001b[0m \u001b[1;33m*\u001b[0m\u001b[0margs\u001b[0m\u001b[1;33m,\u001b[0m \u001b[1;33m**\u001b[0m\u001b[0mkwds\u001b[0m\u001b[1;33m)\u001b[0m\u001b[1;33m\u001b[0m\u001b[1;33m\u001b[0m\u001b[0m\n\u001b[0m\u001b[0;32m     67\u001b[0m \u001b[1;33m\u001b[0m\u001b[0m\n\u001b[0;32m     68\u001b[0m \u001b[1;33m\u001b[0m\u001b[0m\n",
      "\u001b[1;32m~\\AppData\\Local\\Continuum\\anaconda3\\lib\\site-packages\\numpy\\core\\fromnumeric.py\u001b[0m in \u001b[0;36m_wrapit\u001b[1;34m(obj, method, *args, **kwds)\u001b[0m\n\u001b[0;32m     44\u001b[0m     \u001b[1;32mexcept\u001b[0m \u001b[0mAttributeError\u001b[0m\u001b[1;33m:\u001b[0m\u001b[1;33m\u001b[0m\u001b[1;33m\u001b[0m\u001b[0m\n\u001b[0;32m     45\u001b[0m         \u001b[0mwrap\u001b[0m \u001b[1;33m=\u001b[0m \u001b[1;32mNone\u001b[0m\u001b[1;33m\u001b[0m\u001b[1;33m\u001b[0m\u001b[0m\n\u001b[1;32m---> 46\u001b[1;33m     \u001b[0mresult\u001b[0m \u001b[1;33m=\u001b[0m \u001b[0mgetattr\u001b[0m\u001b[1;33m(\u001b[0m\u001b[0masarray\u001b[0m\u001b[1;33m(\u001b[0m\u001b[0mobj\u001b[0m\u001b[1;33m)\u001b[0m\u001b[1;33m,\u001b[0m \u001b[0mmethod\u001b[0m\u001b[1;33m)\u001b[0m\u001b[1;33m(\u001b[0m\u001b[1;33m*\u001b[0m\u001b[0margs\u001b[0m\u001b[1;33m,\u001b[0m \u001b[1;33m**\u001b[0m\u001b[0mkwds\u001b[0m\u001b[1;33m)\u001b[0m\u001b[1;33m\u001b[0m\u001b[1;33m\u001b[0m\u001b[0m\n\u001b[0m\u001b[0;32m     47\u001b[0m     \u001b[1;32mif\u001b[0m \u001b[0mwrap\u001b[0m\u001b[1;33m:\u001b[0m\u001b[1;33m\u001b[0m\u001b[1;33m\u001b[0m\u001b[0m\n\u001b[0;32m     48\u001b[0m         \u001b[1;32mif\u001b[0m \u001b[1;32mnot\u001b[0m \u001b[0misinstance\u001b[0m\u001b[1;33m(\u001b[0m\u001b[0mresult\u001b[0m\u001b[1;33m,\u001b[0m \u001b[0mmu\u001b[0m\u001b[1;33m.\u001b[0m\u001b[0mndarray\u001b[0m\u001b[1;33m)\u001b[0m\u001b[1;33m:\u001b[0m\u001b[1;33m\u001b[0m\u001b[1;33m\u001b[0m\u001b[0m\n",
      "\u001b[1;32m~\\AppData\\Local\\Continuum\\anaconda3\\lib\\site-packages\\numpy\\core\\numeric.py\u001b[0m in \u001b[0;36masarray\u001b[1;34m(a, dtype, order)\u001b[0m\n\u001b[0;32m    536\u001b[0m \u001b[1;33m\u001b[0m\u001b[0m\n\u001b[0;32m    537\u001b[0m     \"\"\"\n\u001b[1;32m--> 538\u001b[1;33m     \u001b[1;32mreturn\u001b[0m \u001b[0marray\u001b[0m\u001b[1;33m(\u001b[0m\u001b[0ma\u001b[0m\u001b[1;33m,\u001b[0m \u001b[0mdtype\u001b[0m\u001b[1;33m,\u001b[0m \u001b[0mcopy\u001b[0m\u001b[1;33m=\u001b[0m\u001b[1;32mFalse\u001b[0m\u001b[1;33m,\u001b[0m \u001b[0morder\u001b[0m\u001b[1;33m=\u001b[0m\u001b[0morder\u001b[0m\u001b[1;33m)\u001b[0m\u001b[1;33m\u001b[0m\u001b[1;33m\u001b[0m\u001b[0m\n\u001b[0m\u001b[0;32m    539\u001b[0m \u001b[1;33m\u001b[0m\u001b[0m\n\u001b[0;32m    540\u001b[0m \u001b[1;33m\u001b[0m\u001b[0m\n",
      "\u001b[1;31mKeyboardInterrupt\u001b[0m: "
     ]
    }
   ],
   "source": [
    "pairs1 = np.arange(0,128,1)\n",
    "ch_msb0 = []\n",
    "cv_msb0 = []\n",
    "cd_msb0 = []\n",
    "\n",
    "ch_msb1 = []\n",
    "cv_msb1 = []\n",
    "cd_msb1 = []\n",
    "\n",
    "img_file = 'lena_gray_512.tif'\n",
    "intensities = cv2.imread(img_file, cv2.IMREAD_GRAYSCALE)\n",
    "imf = np.float32(intensities)\n",
    "\n",
    "height = np.shape(imf)[0]\n",
    "width = np.shape(imf)[1]\n",
    "\n",
    "for th in range(1,100):\n",
    "# th = 50 #threshold\n",
    "    pairing_rounds = np.floor(th/2)\n",
    "    pairs2 = []\n",
    "    for j in range(int(pairing_rounds)):\n",
    "        n = int((255-128-(2*j+1))/th)\n",
    "        for i in range(n+1):\n",
    "            pairs2 = np.append(pairs2,128+2*j+i*th)\n",
    "            pairs2 = np.append(pairs2,128+2*j+1+i*th)\n",
    "        if (128+2*j+(n+1)*th) <= 255:\n",
    "            pairs2 = np.append(pairs2, 128+2*j+(n+1)*th)\n",
    "    \n",
    "    if np.mod(th,2):\n",
    "        n = int((255-128-(th-1))/th)# 128+4+n*th =<255\n",
    "        for i in range(n+1):\n",
    "            pairs2 = np.append(pairs2,128+th-1+i*th)     \n",
    "\n",
    "    #eve_msb0\n",
    "    eve_msb0 = np.zeros([np.shape(imf)[0],np.shape(imf)[1]])\n",
    "    for i in range(np.shape(imf)[0]):\n",
    "        for j in range(np.shape(imf)[1]):\n",
    "        \n",
    "            if imf[i,j] in pairs1:\n",
    "                pos = np.argwhere(pairs1 == imf[i,j])\n",
    "            \n",
    "                if np.mod(pos,2):\n",
    "                    eve_msb0_element = pairs2[pos]\n",
    "                else:\n",
    "                    eve_msb0_element = imf[i,j]\n",
    "                \n",
    "                eve_msb0[i,j] = eve_msb0_element\n",
    "            \n",
    "        \n",
    "            if imf[i,j] in pairs2:\n",
    "                pos = np.argwhere(pairs2 == imf[i,j])\n",
    "            \n",
    "                if np.mod(pos,2):\n",
    "                    eve_msb0_element = imf[i,j]\n",
    "                else:\n",
    "                    eve_msb0_element = pairs1[pos]\n",
    "                \n",
    "                eve_msb0[i,j] = eve_msb0_element\n",
    "            \n",
    "            \n",
    "    eve_msb0_uint8 =eve_msb0.astype(np.uint8)\n",
    "    cv2.imshow('eve_msb0', eve_msb0_uint8)\n",
    "    filename = 'eve_msb0th'+str(th)+'.png'\n",
    "    cv2.imwrite(os.path.join(os.path.expanduser('~'),'Desktop',filename), eve_msb0_uint8)\n",
    "    cv2.imwrite(filename, eve_msb0_uint8)\n",
    "    cv2.waitKey(1000)\n",
    "\n",
    "\n",
    "    ch1_msb0 = correlations(eve_msb0_uint8)[0]\n",
    "    ch_msb0 = np.append(ch_msb0,ch1_msb0)\n",
    "    \n",
    "    cv1_msb0 = correlations(eve_msb0_uint8)[1]\n",
    "    cv_msb0 = np.append(cv_msb0,cv1_msb0)\n",
    "    \n",
    "    cd1_msb0 = correlations(eve_msb0_uint8)[2]\n",
    "    cd_msb0 = np.append(cd_msb0,cd1_msb0)\n",
    "    \n",
    "    \n",
    "    #eve_msb1\n",
    "    eve_msb1 = np.zeros([np.shape(imf)[0],np.shape(imf)[1]])\n",
    "    for i in range(np.shape(imf)[0]):\n",
    "        for j in range(np.shape(imf)[1]):\n",
    "        \n",
    "            if imf[i,j] in pairs1:\n",
    "                pos = np.argwhere(pairs1 == imf[i,j])\n",
    "            \n",
    "                if np.mod(pos,2):\n",
    "                    eve_msb1_element = imf[i,j]\n",
    "                else:\n",
    "                    eve_msb1_element = pairs2[pos]\n",
    "                \n",
    "                eve_msb1[i,j] = eve_msb1_element\n",
    "            \n",
    "        \n",
    "            if imf[i,j] in pairs2:\n",
    "                pos = np.argwhere(pairs2 == imf[i,j])\n",
    "            \n",
    "                if np.mod(pos,2):\n",
    "                    eve_msb1_element = pairs1[pos]\n",
    "                else:\n",
    "                    eve_msb1_element = imf[i,j]\n",
    "                \n",
    "                eve_msb1[i,j] = eve_msb1_element\n",
    "            \n",
    "            \n",
    "    eve_msb1_uint8 =eve_msb1.astype(np.uint8)\n",
    "    cv2.imshow('eve_msb1', eve_msb1_uint8)\n",
    "    filename = 'eve_msb1th'+str(th)+'.png'\n",
    "    cv2.imwrite(os.path.join(os.path.expanduser('~'),'Desktop',filename), eve_msb1_uint8)\n",
    "    cv2.imwrite(filename, eve_msb1_uint8)\n",
    "    cv2.waitKey(1000)\n",
    "\n",
    "\n",
    "    ch1_msb1 = correlations(eve_msb1_uint8)[0]\n",
    "    ch_msb1 = np.append(ch_msb1,ch1_msb1)\n",
    "    \n",
    "    cv1_msb1 = correlations(eve_msb1_uint8)[1]\n",
    "    cv_msb1 = np.append(cv_msb1,cv1_msb1)\n",
    "    \n",
    "    cd1_msb1 = correlations(eve_msb1_uint8)[2]\n",
    "    cd_msb1 = np.append(cd_msb1,cd1_msb1)"
   ]
  },
  {
   "cell_type": "code",
   "execution_count": null,
   "metadata": {},
   "outputs": [],
   "source": [
    "cv2.destroyAllWindows()"
   ]
  },
  {
   "cell_type": "code",
   "execution_count": 314,
   "metadata": {},
   "outputs": [
    {
     "data": {
      "image/png": "[encoded data removed]",
      "text/plain": [
       "<Figure size 432x288 with 1 Axes>"
      ]
     },
     "metadata": {
      "needs_background": "light"
     },
     "output_type": "display_data"
    }
   ],
   "source": [
    "ths = range(1,100)\n",
    "\n",
    "plt.figure()\n",
    "plt.plot(ths, ch_msb0,'o')\n",
    "plt.savefig('horizontal_correlation')"
   ]
  },
  {
   "cell_type": "code",
   "execution_count": 315,
   "metadata": {},
   "outputs": [
    {
     "data": {
      "image/png": "[encoded data removed]",
      "text/plain": [
       "<Figure size 432x288 with 1 Axes>"
      ]
     },
     "metadata": {
      "needs_background": "light"
     },
     "output_type": "display_data"
    }
   ],
   "source": [
    "ths = range(1,100)\n",
    "\n",
    "plt.figure()\n",
    "plt.plot(ths, cv_msb0,'o')\n",
    "plt.savefig('vertical_correlation')"
   ]
  },
  {
   "cell_type": "code",
   "execution_count": 316,
   "metadata": {},
   "outputs": [
    {
     "data": {
      "image/png": "[encoded data removed]",
      "text/plain": [
       "<Figure size 432x288 with 1 Axes>"
      ]
     },
     "metadata": {
      "needs_background": "light"
     },
     "output_type": "display_data"
    }
   ],
   "source": [
    "ths = range(1,100)\n",
    "\n",
    "plt.figure()\n",
    "plt.plot(ths, cd_msb0,'o')\n",
    "plt.savefig('diagonal_correlation')"
   ]
  },
  {
   "cell_type": "code",
   "execution_count": 35,
   "metadata": {},
   "outputs": [
    {
     "data": {
      "image/png": "[encoded data removed]",
      "text/plain": [
       "<Figure size 432x288 with 1 Axes>"
      ]
     },
     "metadata": {
      "needs_background": "light"
     },
     "output_type": "display_data"
    }
   ],
   "source": [
    "ths = range(1,100)\n",
    "\n",
    "plt.figure()\n",
    "plt.plot(ths, ch_msb1,'o')\n",
    "plt.savefig('horizontal_correlation')"
   ]
  },
  {
   "cell_type": "code",
   "execution_count": 36,
   "metadata": {},
   "outputs": [
    {
     "data": {
      "image/png": "[encoded data removed]",
      "text/plain": [
       "<Figure size 432x288 with 1 Axes>"
      ]
     },
     "metadata": {
      "needs_background": "light"
     },
     "output_type": "display_data"
    }
   ],
   "source": [
    "ths = range(1,100)\n",
    "\n",
    "plt.figure()\n",
    "plt.plot(ths, cv_msb1,'o')\n",
    "plt.savefig('vertical_correlation')"
   ]
  },
  {
   "cell_type": "code",
   "execution_count": 37,
   "metadata": {},
   "outputs": [
    {
     "data": {
      "image/png": "[encoded data removed]",
      "text/plain": [
       "<Figure size 432x288 with 1 Axes>"
      ]
     },
     "metadata": {
      "needs_background": "light"
     },
     "output_type": "display_data"
    }
   ],
   "source": [
    "ths = range(1,100)\n",
    "\n",
    "plt.figure()\n",
    "plt.plot(ths, cd_msb1,'o')\n",
    "plt.savefig('diagonal_correlation')"
   ]
  },
  {
   "cell_type": "markdown",
   "metadata": {},
   "source": [
    "# DCT"
   ]
  },
  {
   "cell_type": "code",
   "execution_count": 9,
   "metadata": {},
   "outputs": [],
   "source": [
    "all_nq_ac = []\n",
    "for i in range(0,64):\n",
    "    for j in range(0,64):\n",
    "        blk = imf[8*i:8*(i+1), 8*j:8*(j+1)]-128\n",
    "        dct = cv2.dct(blk)\n",
    "        nq_coef = np.round(dct)\n",
    "        nq_coef_ac = np.delete(nq_coef, [0,0])\n",
    "        \n",
    "        all_nq_ac = np.append(all_nq_ac, nq_coef_ac)\n",
    "        \n",
    "#         fq_coef = np.round(dct/fqtable)\n",
    "#         fq_coef_ac = np.delete(fq_coef, [0,0])\n",
    "#         all_fq_ac = np.append(all_fq_ac, fq_coef_ac)\n",
    "\n",
    "unique, counts = np.unique(all_nq_ac, return_counts=True)\n",
    "\n",
    "maximum = int(np.max(unique))\n",
    "minimum = int(np.min(unique))\n",
    "\n",
    "border=int((maximum+minimum+1)/2) # first value in second half\n",
    "\n",
    "pairs1 = list(range(minimum,border))\n",
    "th = 4\n",
    "pairing_rounds = np.floor(th/2)\n",
    "pairs2 = []\n",
    "for j in range(int(pairing_rounds)):\n",
    "    n = int((maximum-border-(2*j+1))/th)\n",
    "    for i in range(n+1):\n",
    "        pairs2 = np.append(pairs2,border+2*j+i*th)\n",
    "        pairs2 = np.append(pairs2,border+2*j+1+i*th)\n",
    "    if (border+2*j+(n+1)*th) <= maximum:\n",
    "        pairs2 = np.append(pairs2, border+2*j+(n+1)*th)\n",
    "    \n",
    "if np.mod(th,2):\n",
    "    n = int((maximum-border-(th-1))/th)# 128+4+n*th =<255\n",
    "    for i in range(n+1):\n",
    "        pairs2 = np.append(pairs2,border+th-1+i*th)"
   ]
  },
  {
   "cell_type": "code",
   "execution_count": 10,
   "metadata": {},
   "outputs": [],
   "source": [
    "#eve\n",
    "height = 512\n",
    "width = 512\n",
    "eve_msb0_intensities = np.zeros([height,width])\n",
    "eve_msb1_intensities = np.zeros([height,width])\n",
    "\n",
    "for ii in range(0,64):\n",
    "    for jj in range(0,64):\n",
    "        blk = imf[8*ii:8*(ii+1), 8*jj:8*(jj+1)]-128\n",
    "        dct = cv2.dct(blk)\n",
    "        nq_coef = np.round(dct)\n",
    "        nq_coef_ac = np.delete(nq_coef, [0,0])\n",
    "        nq_coef_dc = nq_coef[0,0]\n",
    "             \n",
    "        \n",
    "        eve_msb0 = np.zeros(63)\n",
    "        eve_msb1 = np.zeros(63)\n",
    "        for i in range(63):\n",
    "            if nq_coef_ac[i] in pairs1:\n",
    "                pos = np.argwhere(pairs1 == nq_coef_ac[i])\n",
    "\n",
    "                if np.mod(pos,2):\n",
    "                    eve_msb0_element = pairs2[pos]\n",
    "                    eve_msb1_element = nq_coef_ac[i]\n",
    "                else:\n",
    "                    eve_msb0_element = nq_coef_ac[i]\n",
    "                    eve_msb1_element = pairs2[pos]\n",
    "\n",
    "                eve_msb0[i] = eve_msb0_element\n",
    "                eve_msb1[i] = eve_msb1_element\n",
    "\n",
    "                \n",
    "            if nq_coef_ac[i] in pairs2:\n",
    "                pos = np.argwhere(pairs2 == nq_coef_ac[i])\n",
    "\n",
    "                if np.mod(pos,2):\n",
    "                    eve_msb0_element = nq_coef_ac[i]\n",
    "                    eve_msb1_element = pairs1[int(pos)]\n",
    "                else:\n",
    "                    eve_msb0_element = pairs1[int(pos)]\n",
    "                    eve_msb1_element = nq_coef_ac[i]\n",
    "\n",
    "                eve_msb0[i] = eve_msb0_element\n",
    "                eve_msb1[i] = eve_msb1_element\n",
    "        \n",
    "        \n",
    "        eve_msb0_coef1 = np.insert(eve_msb0, 0, nq_coef_dc)\n",
    "        eve_msb0_coef = np.reshape(eve_msb0_coef1,[8,8])\n",
    "        \n",
    "        eve_msb0_intens1 = cv2.idct(eve_msb0_coef)\n",
    "        eve_msb0_intens = np.round(eve_msb0_intens1)+128  \n",
    "        eve_msb0_intensities [8*ii:8*(ii+1), 8*jj:8*(jj+1)]= eve_msb0_intens\n",
    "        \n",
    "        eve_msb1_coef1 = np.insert(eve_msb1, 0, nq_coef_dc)\n",
    "        eve_msb1_coef = np.reshape(eve_msb1_coef1,[8,8])\n",
    "        \n",
    "        eve_msb1_intens1 = cv2.idct(eve_msb1_coef)\n",
    "        eve_msb1_intens = np.round(eve_msb1_intens1)+128 \n",
    "        eve_msb1_intensities [8*ii:8*(ii+1), 8*jj:8*(jj+1)]= eve_msb1_intens"
   ]
  },
  {
   "cell_type": "code",
   "execution_count": 12,
   "metadata": {},
   "outputs": [
    {
     "data": {
      "text/plain": [
       "-1"
      ]
     },
     "execution_count": 12,
     "metadata": {},
     "output_type": "execute_result"
    }
   ],
   "source": [
    "eve_msb0_uint8 =eve_msb0_intensities.astype(np.uint8)\n",
    "cv2.imshow('eve_msb0', eve_msb0_uint8)\n",
    "filename = 'eve_msb0th'+str(th)+'.png'\n",
    "cv2.imwrite(os.path.join(os.path.expanduser('~'),'Desktop',filename), eve_msb0_uint8)\n",
    "cv2.imwrite(filename, eve_msb0_uint8)\n",
    "cv2.waitKey(1000)\n",
    "\n",
    "eve_msb1_uint8 =eve_msb1_intensities.astype(np.uint8)\n",
    "cv2.imshow('eve_msb1', eve_msb0_uint8)\n",
    "filename = 'eve_msb1th'+str(th)+'.png'\n",
    "cv2.imwrite(os.path.join(os.path.expanduser('~'),'Desktop',filename), eve_msb0_uint8)\n",
    "cv2.imwrite(filename, eve_msb0_uint8)\n",
    "cv2.waitKey(1000)"
   ]
  },
  {
   "cell_type": "code",
   "execution_count": 14,
   "metadata": {},
   "outputs": [],
   "source": [
    "cv2.destroyAllWindows()"
   ]
  },
  {
   "cell_type": "code",
   "execution_count": 15,
   "metadata": {},
   "outputs": [
    {
     "name": "stdout",
     "output_type": "stream",
     "text": [
      "50.280155143540426\n",
      "50.241842887354835\n"
     ]
    }
   ],
   "source": [
    "eve_msb0_dist_db = 10*np.log10(eve_distortion(eve_msb0_intensities))\n",
    "eve_msb1_dist_db = 10*np.log10(eve_distortion(eve_msb1_intensities))\n",
    "print(eve_msb0_dist_db)\n",
    "print(eve_msb1_dist_db)"
   ]
  },
  {
   "cell_type": "code",
   "execution_count": null,
   "metadata": {},
   "outputs": [],
   "source": []
  }
 ],
 "metadata": {
  "kernelspec": {
   "display_name": "Python 3",
   "language": "python",
   "name": "python3"
  },
  "language_info": {
   "codemirror_mode": {
    "name": "ipython",
    "version": 3
   },
   "file_extension": ".py",
   "mimetype": "text/x-python",
   "name": "python",
   "nbconvert_exporter": "python",
   "pygments_lexer": "ipython3",
   "version": "3.7.4"
  }
 },
 "nbformat": 4,
 "nbformat_minor": 2
}
