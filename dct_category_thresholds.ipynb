{
 "cells": [
  {
   "cell_type": "code",
   "execution_count": 4,
   "metadata": {},
   "outputs": [],
   "source": [
    "import numpy as np\n",
    "import cv2\n",
    "import os"
   ]
  },
  {
   "cell_type": "code",
   "execution_count": 5,
   "metadata": {},
   "outputs": [],
   "source": [
    "def eve_distortion(eve_intensities): #from the reconstructed image in uint8 type\n",
    "    feve_intensities = eve_intensities.astype(np.float)\n",
    "    fintensities = intensities.astype(np.float)\n",
    "    dif = (fintensities -  feve_intensities)\n",
    "    eve_dist_mat = dif**2\n",
    "    occurance_sum = height*width #?!\n",
    "    eve_dist = eve_dist_mat.sum()/occurance_sum\n",
    "    return eve_dist"
   ]
  },
  {
   "cell_type": "code",
   "execution_count": 6,
   "metadata": {},
   "outputs": [],
   "source": [
    "all_pairs1 ={}\n",
    "all_pairs2 ={}\n",
    "all_ths = {}\n",
    "for size in range(3,11):\n",
    "    cells_num = 2**size\n",
    "    pairs1_indexes = np.arange(0,2**(size-1),1)\n",
    "    pairs1 = pairs1_indexes - (2**size-1)\n",
    "\n",
    "    th = 2**(size-2)-1 # max threshold = 2**(size-1)-1\n",
    "    pairing_rounds = np.floor(th/2)\n",
    "    pairs2_indexes = [] # In second half index and value are the same\n",
    "    for j in range(int(pairing_rounds)):\n",
    "        n = int(((2**(size)-1)-(2**(size-1))-(2*j+1))/th)\n",
    "        for i in range(n+1):\n",
    "            pairs2_indexes = np.append(pairs2_indexes, 2**(size-1)+2*j+i*th)\n",
    "            pairs2_indexes = np.append(pairs2_indexes, 2**(size-1)+2*j+1+i*th)\n",
    "        if (2**(size-1)+2*j+(n+1)*th) <= (2**(size)-1):\n",
    "            pairs2_indexes = np.append(pairs2_indexes, 2**(size-1)+2*j+(n+1)*th)\n",
    "\n",
    "    if np.mod(th,2):\n",
    "        n = int((2**(size)-1-2**(size-1)-(th-1))/th)# 128+4+n*th =<255\n",
    "        for i in range(n+1):\n",
    "            pairs2_indexes = np.append(pairs2_indexes,2**(size-1)+th-1+i*th)\n",
    "            \n",
    "    all_pairs2[size] = pairs2_indexes\n",
    "    all_pairs1 [size] = pairs1\n",
    "    all_ths[size] = th"
   ]
  },
  {
   "cell_type": "code",
   "execution_count": 7,
   "metadata": {},
   "outputs": [],
   "source": [
    "img_file = 'lena_gray_512.tif'\n",
    "intensities = cv2.imread(img_file, cv2.IMREAD_GRAYSCALE)\n",
    "height = np.shape(intensities)[0]\n",
    "width = np.shape(intensities)[1]\n",
    "imf = np.float32(intensities)\n",
    "\n",
    "# At Eve #\n",
    "eve_msb0_intensities = np.zeros([height,width])\n",
    "eve_msb1_intensities = np.zeros([height,width])\n",
    "\n",
    "for i in range(0,int(height/8)):\n",
    "    for j in range(0,int(width/8)):\n",
    "        blk = imf[8*i:8*(i+1), 8*j:8*(j+1)]\n",
    "        shifted_blk = blk - 128\n",
    "        dct = cv2.dct(shifted_blk)\n",
    "        nq_coef = np.round(dct)\n",
    "        nq_coef_ac = np.delete(nq_coef, [0,0])\n",
    "        nq_coef_dc = nq_coef[0,0]\n",
    "        \n",
    "        eve_ac_msb0 = nq_coef_ac.copy()\n",
    "        eve_ac_msb1 = nq_coef_ac.copy()\n",
    "        \n",
    "        for m in range(np.size(nq_coef_ac)):\n",
    "            org_coef = nq_coef_ac[m]\n",
    "            if org_coef != 0:\n",
    "                coef_size = np.floor(np.log2(abs(org_coef)))+1\n",
    "            else:\n",
    "                coef_size = 0\n",
    "                \n",
    "            if coef_size > 2:\n",
    "                pairs1_in_size = all_pairs1[coef_size]\n",
    "                pairs2_in_size = all_pairs2[coef_size]\n",
    "\n",
    "                if org_coef in pairs1_in_size:\n",
    "                    pos = np.argwhere(pairs1_in_size == org_coef)\n",
    "                    if np.mod(pos,2):\n",
    "                        eve_ac_msb0[m] = pairs2_in_size[pos]\n",
    "                        \n",
    "                    if not np.mod(pos,2):\n",
    "                        eve_ac_msb1[m] = pairs2_in_size[pos]\n",
    "\n",
    "                if org_coef in pairs2_in_size:\n",
    "                    pos = np.argwhere(pairs2_in_size == org_coef)\n",
    "                    if not np.mod(pos,2):\n",
    "                        eve_ac_msb0[m] = pairs1_in_size[pos]\n",
    "                        \n",
    "                    if np.mod(pos,2):\n",
    "                        eve_ac_msb1[m] = pairs1_in_size[pos]\n",
    "        \n",
    "        \n",
    "        eve_msb0_coef1 = np.insert(eve_ac_msb0, 0, nq_coef_dc)\n",
    "        eve_msb0_coef = np.reshape(eve_msb0_coef1,[8,8])\n",
    "        \n",
    "        eve_msb0_blk1 = cv2.idct(eve_msb0_coef)\n",
    "        eve_msb0_blk2 = eve_msb0_blk1+128 # level_shift after idct\n",
    "        eve_msb0_blk = np.round(eve_msb0_blk2)  \n",
    "        eve_msb0_intensities [8*i:8*(i+1), 8*j:8*(j+1)]= eve_msb0_blk\n",
    "        \n",
    "        \n",
    "        eve_msb1_coef1 = np.insert(eve_ac_msb1, 0, nq_coef_dc)\n",
    "        eve_msb1_coef = np.reshape(eve_msb1_coef1,[8,8])\n",
    "        \n",
    "        eve_msb1_blk1 = cv2.idct(eve_msb1_coef)\n",
    "        eve_msb1_blk2 = eve_msb1_blk1+128 # level_shift after idct\n",
    "        eve_msb1_blk = np.round(eve_msb1_blk2)  \n",
    "        eve_msb1_intensities [8*i:8*(i+1), 8*j:8*(j+1)]= eve_msb1_blk"
   ]
  },
  {
   "cell_type": "code",
   "execution_count": 8,
   "metadata": {},
   "outputs": [
    {
     "data": {
      "text/plain": [
       "-1"
      ]
     },
     "execution_count": 8,
     "metadata": {},
     "output_type": "execute_result"
    }
   ],
   "source": [
    "eve_msb0_uint8 =eve_msb0_intensities.astype(np.uint8)\n",
    "cv2.imshow('eve_msb0', eve_msb0_uint8)\n",
    "\n",
    "filename = 'eve_msb0_category_ths.png'\n",
    "cv2.imwrite(os.path.join(os.path.expanduser('~'),'Desktop',filename), eve_msb0_uint8)\n",
    "# cv2.imwrite(filename, eve_msb0_uint8)\n",
    "cv2.waitKey(1000)\n",
    "\n",
    "eve_msb1_uint8 =eve_msb1_intensities.astype(np.uint8)\n",
    "cv2.imshow('eve_msb1', eve_msb1_uint8)\n",
    "\n",
    "filename = 'eve_msb1_category_ths.png'\n",
    "cv2.imwrite(os.path.join(os.path.expanduser('~'),'Desktop',filename), eve_msb1_uint8)\n",
    "# cv2.imwrite(filename, eve_msb1_uint8)\n",
    "cv2.waitKey(1000)"
   ]
  },
  {
   "cell_type": "code",
   "execution_count": 9,
   "metadata": {},
   "outputs": [],
   "source": [
    "cv2.destroyAllWindows()"
   ]
  },
  {
   "cell_type": "code",
   "execution_count": 10,
   "metadata": {},
   "outputs": [
    {
     "name": "stdout",
     "output_type": "stream",
     "text": [
      "28.113722579978067\n",
      "27.97126476305222\n"
     ]
    }
   ],
   "source": [
    "eve_msb0_dist_db = 10*np.log10(eve_distortion(eve_msb0_intensities))\n",
    "eve_msb1_dist_db = 10*np.log10(eve_distortion(eve_msb1_intensities))\n",
    "print(eve_msb0_dist_db)\n",
    "print(eve_msb1_dist_db)"
   ]
  },
  {
   "cell_type": "code",
   "execution_count": null,
   "metadata": {},
   "outputs": [],
   "source": []
  }
 ],
 "metadata": {
  "kernelspec": {
   "display_name": "Python 3",
   "language": "python",
   "name": "python3"
  },
  "language_info": {
   "codemirror_mode": {
    "name": "ipython",
    "version": 3
   },
   "file_extension": ".py",
   "mimetype": "text/x-python",
   "name": "python",
   "nbconvert_exporter": "python",
   "pygments_lexer": "ipython3",
   "version": "3.7.4"
  }
 },
 "nbformat": 4,
 "nbformat_minor": 2
}
