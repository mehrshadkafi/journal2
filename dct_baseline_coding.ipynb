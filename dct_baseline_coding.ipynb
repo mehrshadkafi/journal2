{
 "cells": [
  {
   "cell_type": "markdown",
   "metadata": {},
   "source": [
    "# baseline coding of jpeg \n",
    "# encryption of the MSB of amplitudes of AC coefficients"
   ]
  },
  {
   "cell_type": "code",
   "execution_count": 1,
   "metadata": {},
   "outputs": [],
   "source": [
    "import os\n",
    "import cv2\n",
    "import numpy as np"
   ]
  },
  {
   "cell_type": "code",
   "execution_count": 2,
   "metadata": {},
   "outputs": [],
   "source": [
    "def correlations(intensities):\n",
    "    x1h = intensities\n",
    "    x2h = np.zeros([height, width])\n",
    "    for i in range(0, height):\n",
    "        for j in range(0, width-1):\n",
    "            x2h[i][j] = x1h[i][j+1]\n",
    "        x2h[i][width-1] = x1h[i][width-1]\n",
    "\n",
    "    total_N = np.size(x1h)\n",
    "    mean_x1h = x1h.sum()/total_N\n",
    "    mean_x2h = x2h.sum()/total_N\n",
    "\n",
    "    aa1 = (x1h - mean_x1h)**2\n",
    "    bb1 = aa1.sum()\n",
    "    std_dev1 = np.sqrt(bb1/total_N)\n",
    "\n",
    "    aa2 = (x2h - mean_x2h)**2\n",
    "    bb2 = aa2.sum()\n",
    "    std_dev2 = np.sqrt(bb2/total_N)\n",
    "\n",
    "    cc = (x1h - mean_x1h)*(x2h - mean_x2h)\n",
    "    hcov = cc.sum()/total_N\n",
    "\n",
    "    hcorr = hcov/(std_dev1 * std_dev2)\n",
    "    print('hcorr', hcorr)\n",
    "\n",
    "    # Vertical correlation\n",
    "    x1v = intensities\n",
    "    x2v = np.zeros([height, width])\n",
    "    for i in range(0, height-1):\n",
    "        for j in range(0, width):\n",
    "            x2v[i][j] = x1v[i+1][j]\n",
    "            x2v[height-1][j] = x1v[height-1][j]\n",
    "\n",
    "    total_N = np.size(x1v)\n",
    "    mean_x1v = x1v.sum()/total_N\n",
    "    mean_x2v = x2v.sum()/total_N\n",
    "\n",
    "    aa1 = (x1v - mean_x1v)**2\n",
    "    bb1 = aa1.sum()\n",
    "    std_dev1 = np.sqrt(bb1/total_N)\n",
    "\n",
    "    aa2 = (x2v - mean_x2v)**2\n",
    "    bb2 = aa2.sum()\n",
    "    std_dev2 = np.sqrt(bb2/total_N)\n",
    "\n",
    "    cc = (x1v - mean_x1v)*(x2v - mean_x2v)\n",
    "    vcov = cc.sum()/total_N\n",
    "\n",
    "    vcorr = vcov/(std_dev1 * std_dev2)\n",
    "    print('vcorr',vcorr)\n",
    "\n",
    "    # Diagonal correlation\n",
    "    x1d = intensities\n",
    "    x2d = np.zeros([height, width])\n",
    "    for i in range(0, height-1):\n",
    "        for j in range(0, width-1):\n",
    "            x2d[i][j] = x1d[i+1][j+1]\n",
    "            x2d[height-1][j] = x1d[height-1][j]\n",
    "        x2d[i][width-1] = x1d[i][width-1]\n",
    "    x2d[height-1][width-1] = x1d[height-1][width-1]\n",
    "\n",
    "    total_N = np.size(x1d)\n",
    "    mean_x1d = x1d.sum()/total_N\n",
    "    mean_x2d = x2d.sum()/total_N\n",
    "\n",
    "    aa1 = (x1d - mean_x1d)**2\n",
    "    bb1 = aa1.sum()\n",
    "    std_dev1 = np.sqrt(bb1/total_N)\n",
    "\n",
    "    aa2 = (x2d - mean_x2d)**2\n",
    "    bb2 = aa2.sum()\n",
    "    std_dev2 = np.sqrt(bb2/total_N)\n",
    "\n",
    "    cc = (x1d - mean_x1d)*(x2d - mean_x2d)\n",
    "    dcov = cc.sum()/total_N\n",
    "\n",
    "    dcorr = dcov/(std_dev1 * std_dev2)\n",
    "    print('dcorr',dcorr)\n",
    "    \n",
    "    return hcorr, vcorr, dcorr"
   ]
  },
  {
   "cell_type": "code",
   "execution_count": 3,
   "metadata": {},
   "outputs": [],
   "source": [
    "def eve_distortion(eve_intensities): #from the reconstructed image in uint8 type\n",
    "    feve_intensities = eve_intensities.astype(np.float)\n",
    "    fintensities = intensities.astype(np.float)\n",
    "    dif = (fintensities -  feve_intensities)\n",
    "    eve_dist_mat = dif**2\n",
    "    occurance_sum = height*width #?!\n",
    "    eve_dist = eve_dist_mat.sum()/occurance_sum\n",
    "    return eve_dist"
   ]
  },
  {
   "cell_type": "code",
   "execution_count": 4,
   "metadata": {},
   "outputs": [],
   "source": [
    "img_file = 'lena_gray_512.tif'\n",
    "intensities = cv2.imread(img_file, cv2.IMREAD_GRAYSCALE)\n",
    "height = np.shape(intensities)[0]\n",
    "width = np.shape(intensities)[1]\n",
    "imf = np.float32(intensities)\n",
    "\n",
    "eve_msb0_intensities = np.zeros([height,width])\n",
    "eve_msb1_intensities = np.zeros([height,width])\n",
    "\n",
    "for i in range(0,int(height/8)):\n",
    "    for j in range(0,int(width/8)):\n",
    "        blk = imf[8*i:8*(i+1), 8*j:8*(j+1)]\n",
    "        shifted_blk = blk - 128 #level_shift for dct\n",
    "        dct = cv2.dct(shifted_blk)\n",
    "        nq_coef = np.round(dct)\n",
    "        nq_coef_ac = np.delete(nq_coef, [0,0])\n",
    "        nq_coef_dc = nq_coef[0,0]\n",
    "        \n",
    "        # eve_msb0\n",
    "        eve_ac_msb0 = nq_coef_ac.copy()\n",
    "        for m in range(np.size(nq_coef_ac)):\n",
    "            if nq_coef_ac[m] > 0:\n",
    "                size = np.floor(np.log2(nq_coef_ac[m]))+1\n",
    "                msb0_pair = nq_coef_ac[m] - 2**(size-1)-(2**size-1)\n",
    "                eve_ac_msb0 [m] = msb0_pair\n",
    "                \n",
    "        eve_msb0_coef1 = np.insert(eve_ac_msb0, 0, nq_coef_dc)\n",
    "        eve_msb0_coef = np.reshape(eve_msb0_coef1,[8,8])\n",
    "        \n",
    "        eve_msb0_blk1 = cv2.idct(eve_msb0_coef)\n",
    "        eve_msb0_blk2 = eve_msb0_blk1+128 # level_shift after idct\n",
    "        eve_msb0_blk = np.round(eve_msb0_blk2)  \n",
    "        eve_msb0_intensities [8*i:8*(i+1), 8*j:8*(j+1)]= eve_msb0_blk\n",
    "        \n",
    "        # eve_msb1\n",
    "        eve_ac_msb1 = nq_coef_ac.copy()\n",
    "        for m in range(np.size(nq_coef_ac)):\n",
    "            if nq_coef_ac[m] < 0:\n",
    "                size = np.floor(np.log2(-nq_coef_ac[m]))+1\n",
    "                msb1_pair = nq_coef_ac[m] + 2**(size-1)+(2**size-1)\n",
    "                eve_ac_msb1 [m] = msb1_pair\n",
    "                \n",
    "        eve_msb1_coef1 = np.insert(eve_ac_msb1, 0, nq_coef_dc)\n",
    "        eve_msb1_coef = np.reshape(eve_msb1_coef1,[8,8])\n",
    "        \n",
    "        eve_msb1_blk1 = cv2.idct(eve_msb1_coef)\n",
    "        eve_msb1_blk2 = eve_msb1_blk1+128 # level_shift after idct\n",
    "        eve_msb1_blk = np.round(eve_msb1_blk2)  \n",
    "        eve_msb1_intensities [8*i:8*(i+1), 8*j:8*(j+1)]= eve_msb1_blk"
   ]
  },
  {
   "cell_type": "code",
   "execution_count": 5,
   "metadata": {},
   "outputs": [
    {
     "data": {
      "text/plain": [
       "-1"
      ]
     },
     "execution_count": 5,
     "metadata": {},
     "output_type": "execute_result"
    }
   ],
   "source": [
    "eve_msb0_uint8 =eve_msb0_intensities.astype(np.uint8)\n",
    "cv2.imshow('eve_msb0', eve_msb0_uint8)\n",
    "filename = 'eve_msb0_base.png'\n",
    "# cv2.imwrite(os.path.join(os.path.expanduser('~'),'Desktop',filename), eve_msb0_uint8)\n",
    "cv2.imwrite(filename, eve_msb0_uint8)\n",
    "cv2.waitKey(1000)\n",
    "\n",
    "eve_msb1_uint8 =eve_msb1_intensities.astype(np.uint8)\n",
    "cv2.imshow('eve_msb1', eve_msb1_uint8)\n",
    "filename = 'eve_msb1_base.png'\n",
    "# cv2.imwrite(os.path.join(os.path.expanduser('~'),'Desktop',filename), eve_msb1_uint8)\n",
    "cv2.imwrite(filename, eve_msb1_uint8)\n",
    "cv2.waitKey(1000)"
   ]
  },
  {
   "cell_type": "code",
   "execution_count": 6,
   "metadata": {},
   "outputs": [],
   "source": [
    "cv2.destroyAllWindows()"
   ]
  },
  {
   "cell_type": "code",
   "execution_count": 7,
   "metadata": {},
   "outputs": [
    {
     "name": "stdout",
     "output_type": "stream",
     "text": [
      "hcorr 0.9720025058717428\n",
      "vcorr 0.9850560576233356\n",
      "dcorr 0.9595105444959141\n",
      "hcorr 0.89292468130765\n",
      "vcorr 0.9420412087245476\n",
      "dcorr 0.865934365341464\n",
      "hcorr 0.8988611944095434\n",
      "vcorr 0.9438698696487517\n",
      "dcorr 0.873206172097794\n"
     ]
    }
   ],
   "source": [
    "org_cor = correlations(intensities)\n",
    "eve_msb0_cor = correlations(eve_msb0_intensities)\n",
    "eve_msb1_cor = correlations(eve_msb1_intensities)"
   ]
  },
  {
   "cell_type": "code",
   "execution_count": 9,
   "metadata": {},
   "outputs": [
    {
     "name": "stdout",
     "output_type": "stream",
     "text": [
      "28.492037617089427\n",
      "28.06648177293455\n"
     ]
    }
   ],
   "source": [
    "eve_msb0_dist_db = 10*np.log10(eve_distortion(eve_msb0_intensities))\n",
    "eve_msb1_dist_db = 10*np.log10(eve_distortion(eve_msb1_intensities))\n",
    "print(eve_msb0_dist_db)\n",
    "print(eve_msb1_dist_db)"
   ]
  },
  {
   "cell_type": "code",
   "execution_count": null,
   "metadata": {},
   "outputs": [],
   "source": []
  }
 ],
 "metadata": {
  "kernelspec": {
   "display_name": "Python 3",
   "language": "python",
   "name": "python3"
  },
  "language_info": {
   "codemirror_mode": {
    "name": "ipython",
    "version": 3
   },
   "file_extension": ".py",
   "mimetype": "text/x-python",
   "name": "python",
   "nbconvert_exporter": "python",
   "pygments_lexer": "ipython3",
   "version": "3.7.4"
  }
 },
 "nbformat": 4,
 "nbformat_minor": 2
}
